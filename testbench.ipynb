{
 "cells": [
  {
   "cell_type": "code",
   "execution_count": 2,
   "metadata": {},
   "outputs": [],
   "source": [
    "import torch\n",
    "import torch.nn as nn\n",
    "from torch.optim import SGD\n",
    "from torch.optim import lr_scheduler"
   ]
  },
  {
   "cell_type": "code",
   "execution_count": 2,
   "metadata": {},
   "outputs": [],
   "source": [
    "class tester(nn.Module):\n",
    "    def __init__(self):\n",
    "        super().__init__()\n",
    "        self.conv = nn.Conv2d(3,3,3)\n",
    "    def forward(self,x):\n",
    "        self.conv(x)\n",
    "        return x\n",
    "model = tester()\n",
    "optimizer = SGD(model.parameters(), lr=0.01, momentum=0.9, weight_decay=4e-5)\n",
    "scheduler = lr_scheduler.MultiStepLR(optimizer, [10,20,30])"
   ]
  },
  {
   "cell_type": "code",
   "execution_count": 8,
   "metadata": {},
   "outputs": [],
   "source": [
    "torch.save(optimizer.state_dict(), 'optimizer.pth')"
   ]
  },
  {
   "cell_type": "code",
   "execution_count": 9,
   "metadata": {},
   "outputs": [],
   "source": [
    "optimizer.load_state_dict(torch.load('optimizer.pth'))"
   ]
  },
  {
   "cell_type": "code",
   "execution_count": 12,
   "metadata": {},
   "outputs": [],
   "source": [
    "import yaml"
   ]
  },
  {
   "cell_type": "code",
   "execution_count": 19,
   "metadata": {},
   "outputs": [],
   "source": [
    "tmp = yaml.load(open('configs/base_training.yaml'), Loader=yaml.FullLoader)"
   ]
  },
  {
   "cell_type": "code",
   "execution_count": 20,
   "metadata": {},
   "outputs": [],
   "source": [
    "with open('tmp.yaml', 'w') as f:\n",
    "    f.write(yaml.dump(tmp, allow_unicode=True, default_flow_style=False, sort_keys=False))"
   ]
  },
  {
   "cell_type": "code",
   "execution_count": 3,
   "metadata": {},
   "outputs": [],
   "source": [
    "from models import ResNet\n",
    "mymodel = ResNet(50)\n",
    "pre_trained_model=torch.load(\"/home/usr00/pytorch-cifar100/checkpoint/resnet50/1fclayer/resnet50-200-best.pth\")\n",
    "new=list(pre_trained_model.items())\n",
    "\n",
    "my_model_kvpair=mymodel.state_dict()\n",
    "count=0\n",
    "for key,value in my_model_kvpair.items():\n",
    "    layer_name,weights=new[count]      \n",
    "    my_model_kvpair[key]=weights\n",
    "    count+=1"
   ]
  },
  {
   "cell_type": "code",
   "execution_count": 4,
   "metadata": {},
   "outputs": [],
   "source": [
    "torch.save(my_model_kvpair, 'resnet50.pth')"
   ]
  },
  {
   "cell_type": "code",
   "execution_count": null,
   "metadata": {},
   "outputs": [],
   "source": []
  }
 ],
 "metadata": {
  "kernelspec": {
   "display_name": "exp",
   "language": "python",
   "name": "exp"
  }
 },
 "nbformat": 4,
 "nbformat_minor": 4
}
